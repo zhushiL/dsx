{
 "cells": [
  {
   "cell_type": "markdown",
   "metadata": {},
   "source": [
    "### 9/2 周一\n",
    "全新的一周，开始新篇章！！！\n",
    "\n",
    "**首先应对的是 关于LLM llama**\n",
    " - 模型架构没有那么难，所以不要害怕\n",
    " - 主要花大量时间精力去准备数据\n",
    " - scaling law 预测大模型\n",
    " - 机器集群训练大模型的挑战性\n",
    "\n",
    "当让也学习到一些新东西；首先是回忆算 $attention$ 的时候是下一个 Q 去乘 所有的 K、V ，然后使用 $GQV$ 可以降低存储\n",
    "\n",
    "--------\n",
    "接下来的工作指导：\n",
    "1. 希望接下来能研究一下 LLM 相关的工作，能做下去\n",
    "2. 看一看后续的论文精读，能不能继续找到一些灵感\n",
    "3. 可以思考 $CLIP$ 文本结合的 $DETR$ 目标检测任务，可以在短时间内做出成果\n",
    "\n",
    "我是`有时间试错`的，不要急！！！\n",
    "可恶，一写到这就有点着急了。"
   ]
  }
 ],
 "metadata": {
  "kernelspec": {
   "display_name": "base",
   "language": "python",
   "name": "python3"
  },
  "language_info": {
   "name": "python",
   "version": "3.12.2"
  }
 },
 "nbformat": 4,
 "nbformat_minor": 2
}
