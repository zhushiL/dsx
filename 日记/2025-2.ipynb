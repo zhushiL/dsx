{
 "cells": [
  {
   "cell_type": "markdown",
   "metadata": {},
   "source": [
    "# 怎么回事啊，转眼到25年2月份了吗😭"
   ]
  },
  {
   "cell_type": "markdown",
   "metadata": {},
   "source": [
    "## 2/10 周一\n",
    "改了一天简历    \n",
    "：真服了啊，做个简历花一天还没做好，不过也算是聚金汇神做点事了吧，不做不知道，一开始就知道自己啥也没有了\n",
    "\n",
    "---明天的任务，开始扩散模型生成图片，必须要快必须要快"
   ]
  },
  {
   "cell_type": "markdown",
   "metadata": {},
   "source": [
    "## 2/11 周二\n",
    "莫名点进 sam-hq 的代码，洞悉其训练函数，并检查其数据集结构，发现这是一个可以复刻的代码\n",
    "\n",
    "---接下来先训练一下sam-hq 训练成功可以着手标注自己的数据开始训练；那么改模型的空间的也可以大大增强   \n",
    "不过在此之前，看一看其他几个代码，我要保证自己的代码绝对可控。"
   ]
  },
  {
   "cell_type": "markdown",
   "metadata": {},
   "source": [
    "## 2/12 周三 元宵\n",
    "摸清怎么在CVAT中得到 hq-sam 同样的标注数据     \n",
    "\n",
    "---今天的工作时间不算长，但是也是有贡献的，很重要的一步棋"
   ]
  },
  {
   "cell_type": "markdown",
   "metadata": {},
   "source": [
    "## 2/13 周四 \n",
    "使用 hq-sam 自带的数据训练模型；验证训练效果，比未精细训练效果提升    \n",
    "但是现在有个问题：需要prompt\n",
    "\n",
    "---给我的感觉是好累，做完一件事不行开始第二件事，效率还是慢了呀    \n",
    "其他的类似于mask2form的代码全部是基于detectron2"
   ]
  },
  {
   "cell_type": "markdown",
   "metadata": {},
   "source": [
    "## 2/15 周六\n",
    "数据加载的时候，直接加载[imidx, img, label, shape].  \n",
    "有专门的根据 mask label 生成的 prompt 参与训练   \n",
    "训练的时候加载完整的 sam 模型，但其实并没有用上原本的 mask_decoder，然后单独加载 hq_mask_decoder 参与训练\n",
    "hq_mask_decoder参数初始化来自于原来的 mask_decoder 训练权重。\n",
    "\n",
    "如果实在干不下去，要不还是看看自己部署R1模型"
   ]
  },
  {
   "cell_type": "markdown",
   "metadata": {},
   "source": [
    "## 2/17 周一\n",
    "收到任务，写自己的审稿意见。    \n",
    "筛选验证集图片，得到两百张图片\n",
    "\n",
    "---下一步计划难道是改模型，把prompt训练部分除去，输入图片可以直接得到mask"
   ]
  },
  {
   "cell_type": "markdown",
   "metadata": {},
   "source": [
    "## 2/18 周二\n",
    "1.Mask-RCNN --2.YOLACT --3.SOLO --4.SOLOv2 --5.CondInst --6.Mask2Former --7.SparseInst       \n",
    "除了 Mask2Fomer 需要修改一点点实例分割，其他都可以基于 coco 格式的实例分割进行训练得到实验结果--->对比试验使用 mmdetection 应该可以很好完成\n",
    "\n",
    "---继续处理数据吧，筛选一下，有机会标注"
   ]
  },
  {
   "cell_type": "markdown",
   "metadata": {},
   "source": [
    "torchrun --nproc_per_node=4 train.py --checkpoint ./pretrained_checkpoint/sam_vit_b_01ec64.pth --model-type vit_b --output work_dirs/hq_sam_b"
   ]
  },
  {
   "cell_type": "markdown",
   "metadata": {},
   "source": [
    "## 2/19 周三\n",
    "筛选train里面的图片，后来发现重复的太多了，挑选到1/4就放弃了，那也有几万张了"
   ]
  },
  {
   "cell_type": "markdown",
   "metadata": {
    "vscode": {
     "languageId": "plaintext"
    }
   },
   "source": [
    "## 2/20 周四\n",
    "一整天都在摸鱼标数据，标了1/4，效率有点慢。😭（50/200）"
   ]
  },
  {
   "cell_type": "markdown",
   "metadata": {},
   "source": [
    "## 2/21 周五\n",
    "又又又又到周五了，今天的任务是一次性吧所有的图片全都标完······并没有标完，半自动没了，现在是全手动，目前标了140张，还剩下60张 （140/200）\n",
    "\n",
    "受不了了，太太太难标了，现在看到就恶心怎么办，真的无语了，明天该怎么度过。    \n",
    "---不行，明天是本周的最后一天，我一定要把数据标完，最后的机会了。难受啊"
   ]
  },
  {
   "cell_type": "markdown",
   "metadata": {},
   "source": [
    "## 2/22 周六\n",
    "并没有标完，进度 (170/200)"
   ]
  },
  {
   "cell_type": "markdown",
   "metadata": {},
   "source": [
    "## 2/24 周一\n",
    "终终终于标完数据了 (200/200)   \n",
    "顺便 P 了一下图  收到无人机得到的 600 块"
   ]
  },
  {
   "cell_type": "markdown",
   "metadata": {},
   "source": [
    "## 2/25 \n",
    "检查完所有的数据集，完美导出，质量不错;    \n",
    "检查代码，深入了解一下评估代码 IoU BIoU 应该是可行的\n",
    "\n",
    "修复图像获取代码，准备去获取实际图像,,,但是其实并没有，检查了一下代码"
   ]
  },
  {
   "cell_type": "markdown",
   "metadata": {},
   "source": [
    "## 2/26 周三\n",
    "现场采集图像，代码没有问题，就是一个人可能有些麻烦\n",
    "\n",
    "有一个问题就是一篇文章有两个贡献的话，包括数据集和模型，怎么平衡两者的关系\n",
    "- 模型可以表示自己精度指标等的提升，还有与其他模型的比较\n",
    "- 数据集可以测一些benchmark，表明其他模型在我们数据集上面训练后性能会提升\n",
    "\n",
    "对于自己制作数据集必然要突出贡献 (SA-1B就是大而多)\n",
    "1.优势，自己对的数据集对于现在已经存在的数据集优势。例如SA-1B中，image和mask的数量最多。\n",
    "2.数据质量，说明自己的采集方法与环境，提升数据集的方式。\n",
    "3.对数据集的性质分析，多样性，数量，相比于其他数据集的特点，分布之类的。\n",
    "\n",
    "这里预先设想一下自己的多样性从哪些方面来体现\n",
    "1. 距离，3～5m两种\n",
    "2. 视场，35mm定焦和100mm长焦\n",
    "3. 背景亮度，背景黑暗和背景明亮\n",
    "4. 室内和室外\n",
    "5. 干扰，例如云层"
   ]
  }
 ],
 "metadata": {
  "language_info": {
   "name": "python"
  }
 },
 "nbformat": 4,
 "nbformat_minor": 2
}
